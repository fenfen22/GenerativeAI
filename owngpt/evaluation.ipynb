{
 "cells": [
  {
   "cell_type": "code",
   "execution_count": 1,
   "metadata": {},
   "outputs": [],
   "source": [
    "import pandas as pd"
   ]
  },
  {
   "cell_type": "code",
   "execution_count": 3,
   "metadata": {},
   "outputs": [
    {
     "name": "stdout",
     "output_type": "stream",
     "text": [
      "Index(['Question', 'Answer', 'Source'], dtype='object')\n"
     ]
    },
    {
     "data": {
      "text/html": [
       "<div>\n",
       "<style scoped>\n",
       "    .dataframe tbody tr th:only-of-type {\n",
       "        vertical-align: middle;\n",
       "    }\n",
       "\n",
       "    .dataframe tbody tr th {\n",
       "        vertical-align: top;\n",
       "    }\n",
       "\n",
       "    .dataframe thead th {\n",
       "        text-align: right;\n",
       "    }\n",
       "</style>\n",
       "<table border=\"1\" class=\"dataframe\">\n",
       "  <thead>\n",
       "    <tr style=\"text-align: right;\">\n",
       "      <th></th>\n",
       "      <th>Question</th>\n",
       "      <th>Answer</th>\n",
       "      <th>Source</th>\n",
       "    </tr>\n",
       "  </thead>\n",
       "  <tbody>\n",
       "    <tr>\n",
       "      <th>0</th>\n",
       "      <td>What is PyTorch?</td>\n",
       "      <td>It’s a Python based scientific computing packa...</td>\n",
       "      <td>notebook 3_1</td>\n",
       "    </tr>\n",
       "    <tr>\n",
       "      <th>1</th>\n",
       "      <td>What is the MNIST dataset?</td>\n",
       "      <td>MNIST is a dataset that is often used for benc...</td>\n",
       "      <td>notebook 3_4</td>\n",
       "    </tr>\n",
       "    <tr>\n",
       "      <th>2</th>\n",
       "      <td>Which optimizers are mentioned in the exercise...</td>\n",
       "      <td>Optimizer and learning rate:\\nSGD + Momentum: ...</td>\n",
       "      <td>notebook 3_4</td>\n",
       "    </tr>\n",
       "    <tr>\n",
       "      <th>3</th>\n",
       "      <td>Describe the model given in the exercise noteb...</td>\n",
       "      <td>The provided code defines a PyTorch neural net...</td>\n",
       "      <td>notebook 3_3</td>\n",
       "    </tr>\n",
       "    <tr>\n",
       "      <th>4</th>\n",
       "      <td>What is the initial assignment in exercise not...</td>\n",
       "      <td>The first task is to use Kaiming He initializa...</td>\n",
       "      <td>notebook 3_4</td>\n",
       "    </tr>\n",
       "  </tbody>\n",
       "</table>\n",
       "</div>"
      ],
      "text/plain": [
       "                                            Question  \\\n",
       "0                                   What is PyTorch?   \n",
       "1                         What is the MNIST dataset?   \n",
       "2  Which optimizers are mentioned in the exercise...   \n",
       "3  Describe the model given in the exercise noteb...   \n",
       "4  What is the initial assignment in exercise not...   \n",
       "\n",
       "                                              Answer        Source  \n",
       "0  It’s a Python based scientific computing packa...  notebook 3_1  \n",
       "1  MNIST is a dataset that is often used for benc...  notebook 3_4  \n",
       "2  Optimizer and learning rate:\\nSGD + Momentum: ...  notebook 3_4  \n",
       "3  The provided code defines a PyTorch neural net...  notebook 3_3  \n",
       "4  The first task is to use Kaiming He initializa...  notebook 3_4  "
      ]
     },
     "execution_count": 3,
     "metadata": {},
     "output_type": "execute_result"
    }
   ],
   "source": [
    "qa_dataset = pd.read_csv('../qa_dataset.csv')\n",
    "print(qa_dataset.columns)\n",
    "qa_dataset.head()"
   ]
  }
 ],
 "metadata": {
  "kernelspec": {
   "display_name": "deeplearning-final-project",
   "language": "python",
   "name": "python3"
  },
  "language_info": {
   "codemirror_mode": {
    "name": "ipython",
    "version": 3
   },
   "file_extension": ".py",
   "mimetype": "text/x-python",
   "name": "python",
   "nbconvert_exporter": "python",
   "pygments_lexer": "ipython3",
   "version": "3.10.0"
  }
 },
 "nbformat": 4,
 "nbformat_minor": 2
}
